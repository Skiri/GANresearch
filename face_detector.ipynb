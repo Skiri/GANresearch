{
  "nbformat": 4,
  "nbformat_minor": 0,
  "metadata": {
    "colab": {
      "name": "face_detector.ipynb",
      "provenance": [],
      "mount_file_id": "1nn2l_oWRZTp1TiIfQbvfay66bmcCeMy5",
      "authorship_tag": "ABX9TyO+4PGkm4sELoWjUGH9oTI6",
      "include_colab_link": true
    },
    "kernelspec": {
      "name": "python3",
      "display_name": "Python 3"
    },
    "accelerator": "GPU"
  },
  "cells": [
    {
      "cell_type": "markdown",
      "metadata": {
        "id": "view-in-github",
        "colab_type": "text"
      },
      "source": [
        "<a href=\"https://colab.research.google.com/github/Skiri/GANresearch/blob/main/face_detector.ipynb\" target=\"_parent\"><img src=\"https://colab.research.google.com/assets/colab-badge.svg\" alt=\"Open In Colab\"/></a>"
      ]
    },
    {
      "cell_type": "markdown",
      "metadata": {
        "id": "iEvY_euLw1fY"
      },
      "source": [
        "This is the face encoder "
      ]
    },
    {
      "cell_type": "code",
      "metadata": {
        "id": "glC6mZTw1DmF",
        "outputId": "05bd942b-f10b-4b43-fcb6-b6af79f3988e",
        "colab": {
          "base_uri": "https://localhost:8080/",
          "height": 127
        }
      },
      "source": [
        "!git clone https://github.com/Skiri/GANresearch"
      ],
      "execution_count": 11,
      "outputs": [
        {
          "output_type": "stream",
          "text": [
            "Cloning into 'GANresearch'...\n",
            "remote: Enumerating objects: 3, done.\u001b[K\n",
            "remote: Counting objects: 100% (3/3), done.\u001b[K\n",
            "remote: Compressing objects: 100% (2/2), done.\u001b[K\n",
            "remote: Total 3 (delta 0), reused 0 (delta 0), pack-reused 0\u001b[K\n",
            "Unpacking objects: 100% (3/3), done.\n"
          ],
          "name": "stdout"
        }
      ]
    },
    {
      "cell_type": "code",
      "metadata": {
        "id": "JYcSvbZ81eQB",
        "outputId": "0c23332a-4924-46b5-efa6-38758106b332",
        "colab": {
          "base_uri": "https://localhost:8080/",
          "height": 35
        }
      },
      "source": [
        "cd GANresearch"
      ],
      "execution_count": 16,
      "outputs": [
        {
          "output_type": "stream",
          "text": [
            "/content/GANresearch\n"
          ],
          "name": "stdout"
        }
      ]
    },
    {
      "cell_type": "code",
      "metadata": {
        "id": "DeF1bdG6w6aY"
      },
      "source": [
        "mkdir raw aligned"
      ],
      "execution_count": 17,
      "outputs": []
    },
    {
      "cell_type": "code",
      "metadata": {
        "id": "VkCTZWjM2h_Z",
        "outputId": "61a44290-1459-40d5-ede7-d32d465eb560",
        "colab": {
          "base_uri": "https://localhost:8080/",
          "height": 35
        }
      },
      "source": [
        "ls"
      ],
      "execution_count": 21,
      "outputs": [
        {
          "output_type": "stream",
          "text": [
            "\u001b[0m\u001b[01;34maligned\u001b[0m/  face_detector.py  \u001b[01;34mraw\u001b[0m/\n"
          ],
          "name": "stdout"
        }
      ]
    },
    {
      "cell_type": "code",
      "metadata": {
        "id": "e-n6OQNM1mDj",
        "outputId": "220a880f-4e19-4227-c829-4e17937e7354",
        "colab": {
          "base_uri": "https://localhost:8080/",
          "height": 109
        }
      },
      "source": [
        "!python face_detector.py raw/ aligned/"
      ],
      "execution_count": 22,
      "outputs": [
        {
          "output_type": "stream",
          "text": [
            "2020-10-23 19:06:04.027991: I tensorflow/stream_executor/platform/default/dso_loader.cc:48] Successfully opened dynamic library libcudart.so.10.1\n",
            "Traceback (most recent call last):\n",
            "  File \"face_detector.py\", line 5, in <module>\n",
            "    from ffhq_dataset.face_alignment import image_align\n",
            "ModuleNotFoundError: No module named 'ffhq_dataset'\n"
          ],
          "name": "stdout"
        }
      ]
    }
  ]
}